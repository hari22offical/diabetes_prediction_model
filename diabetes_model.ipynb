{
  "nbformat": 4,
  "nbformat_minor": 0,
  "metadata": {
    "colab": {
      "provenance": []
    },
    "kernelspec": {
      "name": "python3",
      "display_name": "Python 3"
    },
    "language_info": {
      "name": "python"
    }
  },
  "cells": [
    {
      "cell_type": "markdown",
      "source": [
        "# diabete_predication_model\n"
      ],
      "metadata": {
        "id": "mc_38Mim7iCy"
      }
    },
    {
      "cell_type": "markdown",
      "source": [
        "#about dataset"
      ],
      "metadata": {
        "id": "WBltYUKw7re_"
      }
    },
    {
      "cell_type": "code",
      "execution_count": 370,
      "metadata": {
        "id": "1u4UOmXh7MWI",
        "colab": {
          "base_uri": "https://localhost:8080/",
          "height": 140
        },
        "outputId": "ab931059-901c-4f1a-c8df-1567d217dc2b"
      },
      "outputs": [
        {
          "output_type": "execute_result",
          "data": {
            "text/plain": [
              "'\\nThis dataset is originally from the National Institute of Diabetes and Digestive and Kidney\\nDiseases. The objective of the dataset is to diagnostically predict whether a patient has diabetes,\\nbased on certain diagnostic measurements included in the dataset. Several constraints were placed\\non the selection of these instances from a larger database. In particular, all patients here are females\\nat least 21 years old of Pima Indian heritage.2\\nFrom the data set in the (.csv) File We can find several variables, some of them are independent\\n(several medical predictor variables) and only one target dependent variable (Outcome).\\n\\n\\nColumns\\tDescription\\nPregnancies----To express the Number of pregnancies\\nGlucose\\t----to express the Glucose level in blood\\nBloodPressure ----\\tTo express the Blood pressure measurement\\nSkinThickness ----\\tTo express the thickness of the skin\\nInsulin ----\\tTo express the Insulin level in blood\\nBMI ----\\tTo express the Body mass index\\nDiabetesPedigreeFunction ----\\tTo express the Diabetes percentage\\nAge ----\\tTo express the age\\nOutcome ----To express the final result 1 is Yes and 0 is No\\n\\n'"
            ],
            "application/vnd.google.colaboratory.intrinsic+json": {
              "type": "string"
            }
          },
          "metadata": {},
          "execution_count": 370
        }
      ],
      "source": [
        "'''\n",
        "This dataset is originally from the National Institute of Diabetes and Digestive and Kidney\n",
        "Diseases. The objective of the dataset is to diagnostically predict whether a patient has diabetes,\n",
        "based on certain diagnostic measurements included in the dataset. Several constraints were placed\n",
        "on the selection of these instances from a larger database. In particular, all patients here are females\n",
        "at least 21 years old of Pima Indian heritage.2\n",
        "From the data set in the (.csv) File We can find several variables, some of them are independent\n",
        "(several medical predictor variables) and only one target dependent variable (Outcome).\n",
        "\n",
        "\n",
        "Columns\tDescription\n",
        "Pregnancies----To express the Number of pregnancies\n",
        "Glucose\t----to express the Glucose level in blood\n",
        "BloodPressure ----\tTo express the Blood pressure measurement\n",
        "SkinThickness ----\tTo express the thickness of the skin\n",
        "Insulin ----\tTo express the Insulin level in blood\n",
        "BMI ----\tTo express the Body mass index\n",
        "DiabetesPedigreeFunction ----\tTo express the Diabetes percentage\n",
        "Age ----\tTo express the age\n",
        "Outcome ----To express the final result 1 is Yes and 0 is No\n",
        "\n",
        "'''"
      ]
    },
    {
      "cell_type": "markdown",
      "source": [
        "#Exploratory Data Analytics / Root Cause Analytics\n",
        "Domain Exploration\n",
        "Understand the relevant business process, business impact Common challenges and beleifs Sources of data and external factors\n",
        "\n",
        "#Data Collection and Data Exploration\n",
        "Collect data from multiple units of business, prepare the dataset Perform a generic exploration on data to identify common challenges in data quality\n",
        "\n",
        "#Data Cleaning\n",
        "Handling duplicates, unwanted columns, missing values, outliers\n",
        "\n",
        "#EDA / RCA\n",
        "Data Visualization\n",
        "\n",
        "Univariate Analysis, Bivariate Analysis, Multivariate Analysis, Statistical methods\n",
        "\n",
        "#Correlation Analysis \n",
        "ANOVA, Chi Square Test,"
      ],
      "metadata": {
        "id": "uUoTqJVg8npy"
      }
    },
    {
      "cell_type": "markdown",
      "source": [
        "#1. data collection and data explorations"
      ],
      "metadata": {
        "id": "GulrDgiH8z2r"
      }
    },
    {
      "cell_type": "code",
      "source": [
        "#import the all librarys that are required\n",
        "import numpy as np\n",
        "import pandas as pd\n",
        "import matplotlib.pyplot as plt\n",
        "import seaborn as sns"
      ],
      "metadata": {
        "id": "hcfN6c068csf"
      },
      "execution_count": 371,
      "outputs": []
    },
    {
      "cell_type": "code",
      "source": [
        "# loading the dataset into dataframe\n",
        "df=pd.read_csv(\"diabetes.csv\")"
      ],
      "metadata": {
        "id": "Kw8SQvME9NH1"
      },
      "execution_count": 372,
      "outputs": []
    },
    {
      "cell_type": "code",
      "source": [
        "# to view the dataset\n",
        "df.head()"
      ],
      "metadata": {
        "colab": {
          "base_uri": "https://localhost:8080/",
          "height": 206
        },
        "id": "_Ks4bneB9kF0",
        "outputId": "57ff9bf5-83d4-4f0e-eff3-160a20590c4e"
      },
      "execution_count": 373,
      "outputs": [
        {
          "output_type": "execute_result",
          "data": {
            "text/plain": [
              "   Pregnancies  Glucose  BloodPressure  SkinThickness  Insulin   BMI  \\\n",
              "0            6      148             72             35        0  33.6   \n",
              "1            1       85             66             29        0  26.6   \n",
              "2            8      183             64              0        0  23.3   \n",
              "3            1       89             66             23       94  28.1   \n",
              "4            0      137             40             35      168  43.1   \n",
              "\n",
              "   DiabetesPedigreeFunction  Age  Outcome  \n",
              "0                     0.627   50        1  \n",
              "1                     0.351   31        0  \n",
              "2                     0.672   32        1  \n",
              "3                     0.167   21        0  \n",
              "4                     2.288   33        1  "
            ],
            "text/html": [
              "\n",
              "  <div id=\"df-fb3b085c-784f-415f-a156-95842cfcb5d3\">\n",
              "    <div class=\"colab-df-container\">\n",
              "      <div>\n",
              "<style scoped>\n",
              "    .dataframe tbody tr th:only-of-type {\n",
              "        vertical-align: middle;\n",
              "    }\n",
              "\n",
              "    .dataframe tbody tr th {\n",
              "        vertical-align: top;\n",
              "    }\n",
              "\n",
              "    .dataframe thead th {\n",
              "        text-align: right;\n",
              "    }\n",
              "</style>\n",
              "<table border=\"1\" class=\"dataframe\">\n",
              "  <thead>\n",
              "    <tr style=\"text-align: right;\">\n",
              "      <th></th>\n",
              "      <th>Pregnancies</th>\n",
              "      <th>Glucose</th>\n",
              "      <th>BloodPressure</th>\n",
              "      <th>SkinThickness</th>\n",
              "      <th>Insulin</th>\n",
              "      <th>BMI</th>\n",
              "      <th>DiabetesPedigreeFunction</th>\n",
              "      <th>Age</th>\n",
              "      <th>Outcome</th>\n",
              "    </tr>\n",
              "  </thead>\n",
              "  <tbody>\n",
              "    <tr>\n",
              "      <th>0</th>\n",
              "      <td>6</td>\n",
              "      <td>148</td>\n",
              "      <td>72</td>\n",
              "      <td>35</td>\n",
              "      <td>0</td>\n",
              "      <td>33.6</td>\n",
              "      <td>0.627</td>\n",
              "      <td>50</td>\n",
              "      <td>1</td>\n",
              "    </tr>\n",
              "    <tr>\n",
              "      <th>1</th>\n",
              "      <td>1</td>\n",
              "      <td>85</td>\n",
              "      <td>66</td>\n",
              "      <td>29</td>\n",
              "      <td>0</td>\n",
              "      <td>26.6</td>\n",
              "      <td>0.351</td>\n",
              "      <td>31</td>\n",
              "      <td>0</td>\n",
              "    </tr>\n",
              "    <tr>\n",
              "      <th>2</th>\n",
              "      <td>8</td>\n",
              "      <td>183</td>\n",
              "      <td>64</td>\n",
              "      <td>0</td>\n",
              "      <td>0</td>\n",
              "      <td>23.3</td>\n",
              "      <td>0.672</td>\n",
              "      <td>32</td>\n",
              "      <td>1</td>\n",
              "    </tr>\n",
              "    <tr>\n",
              "      <th>3</th>\n",
              "      <td>1</td>\n",
              "      <td>89</td>\n",
              "      <td>66</td>\n",
              "      <td>23</td>\n",
              "      <td>94</td>\n",
              "      <td>28.1</td>\n",
              "      <td>0.167</td>\n",
              "      <td>21</td>\n",
              "      <td>0</td>\n",
              "    </tr>\n",
              "    <tr>\n",
              "      <th>4</th>\n",
              "      <td>0</td>\n",
              "      <td>137</td>\n",
              "      <td>40</td>\n",
              "      <td>35</td>\n",
              "      <td>168</td>\n",
              "      <td>43.1</td>\n",
              "      <td>2.288</td>\n",
              "      <td>33</td>\n",
              "      <td>1</td>\n",
              "    </tr>\n",
              "  </tbody>\n",
              "</table>\n",
              "</div>\n",
              "      <button class=\"colab-df-convert\" onclick=\"convertToInteractive('df-fb3b085c-784f-415f-a156-95842cfcb5d3')\"\n",
              "              title=\"Convert this dataframe to an interactive table.\"\n",
              "              style=\"display:none;\">\n",
              "        \n",
              "  <svg xmlns=\"http://www.w3.org/2000/svg\" height=\"24px\"viewBox=\"0 0 24 24\"\n",
              "       width=\"24px\">\n",
              "    <path d=\"M0 0h24v24H0V0z\" fill=\"none\"/>\n",
              "    <path d=\"M18.56 5.44l.94 2.06.94-2.06 2.06-.94-2.06-.94-.94-2.06-.94 2.06-2.06.94zm-11 1L8.5 8.5l.94-2.06 2.06-.94-2.06-.94L8.5 2.5l-.94 2.06-2.06.94zm10 10l.94 2.06.94-2.06 2.06-.94-2.06-.94-.94-2.06-.94 2.06-2.06.94z\"/><path d=\"M17.41 7.96l-1.37-1.37c-.4-.4-.92-.59-1.43-.59-.52 0-1.04.2-1.43.59L10.3 9.45l-7.72 7.72c-.78.78-.78 2.05 0 2.83L4 21.41c.39.39.9.59 1.41.59.51 0 1.02-.2 1.41-.59l7.78-7.78 2.81-2.81c.8-.78.8-2.07 0-2.86zM5.41 20L4 18.59l7.72-7.72 1.47 1.35L5.41 20z\"/>\n",
              "  </svg>\n",
              "      </button>\n",
              "      \n",
              "  <style>\n",
              "    .colab-df-container {\n",
              "      display:flex;\n",
              "      flex-wrap:wrap;\n",
              "      gap: 12px;\n",
              "    }\n",
              "\n",
              "    .colab-df-convert {\n",
              "      background-color: #E8F0FE;\n",
              "      border: none;\n",
              "      border-radius: 50%;\n",
              "      cursor: pointer;\n",
              "      display: none;\n",
              "      fill: #1967D2;\n",
              "      height: 32px;\n",
              "      padding: 0 0 0 0;\n",
              "      width: 32px;\n",
              "    }\n",
              "\n",
              "    .colab-df-convert:hover {\n",
              "      background-color: #E2EBFA;\n",
              "      box-shadow: 0px 1px 2px rgba(60, 64, 67, 0.3), 0px 1px 3px 1px rgba(60, 64, 67, 0.15);\n",
              "      fill: #174EA6;\n",
              "    }\n",
              "\n",
              "    [theme=dark] .colab-df-convert {\n",
              "      background-color: #3B4455;\n",
              "      fill: #D2E3FC;\n",
              "    }\n",
              "\n",
              "    [theme=dark] .colab-df-convert:hover {\n",
              "      background-color: #434B5C;\n",
              "      box-shadow: 0px 1px 3px 1px rgba(0, 0, 0, 0.15);\n",
              "      filter: drop-shadow(0px 1px 2px rgba(0, 0, 0, 0.3));\n",
              "      fill: #FFFFFF;\n",
              "    }\n",
              "  </style>\n",
              "\n",
              "      <script>\n",
              "        const buttonEl =\n",
              "          document.querySelector('#df-fb3b085c-784f-415f-a156-95842cfcb5d3 button.colab-df-convert');\n",
              "        buttonEl.style.display =\n",
              "          google.colab.kernel.accessAllowed ? 'block' : 'none';\n",
              "\n",
              "        async function convertToInteractive(key) {\n",
              "          const element = document.querySelector('#df-fb3b085c-784f-415f-a156-95842cfcb5d3');\n",
              "          const dataTable =\n",
              "            await google.colab.kernel.invokeFunction('convertToInteractive',\n",
              "                                                     [key], {});\n",
              "          if (!dataTable) return;\n",
              "\n",
              "          const docLinkHtml = 'Like what you see? Visit the ' +\n",
              "            '<a target=\"_blank\" href=https://colab.research.google.com/notebooks/data_table.ipynb>data table notebook</a>'\n",
              "            + ' to learn more about interactive tables.';\n",
              "          element.innerHTML = '';\n",
              "          dataTable['output_type'] = 'display_data';\n",
              "          await google.colab.output.renderOutput(dataTable, element);\n",
              "          const docLink = document.createElement('div');\n",
              "          docLink.innerHTML = docLinkHtml;\n",
              "          element.appendChild(docLink);\n",
              "        }\n",
              "      </script>\n",
              "    </div>\n",
              "  </div>\n",
              "  "
            ]
          },
          "metadata": {},
          "execution_count": 373
        }
      ]
    },
    {
      "cell_type": "code",
      "source": [
        "# to know the summary of dataset\n",
        "df.info()"
      ],
      "metadata": {
        "colab": {
          "base_uri": "https://localhost:8080/"
        },
        "id": "cUsQF2Fo9-TX",
        "outputId": "3a6cdc35-17fc-44d4-eea1-04ba582d56a8"
      },
      "execution_count": 374,
      "outputs": [
        {
          "output_type": "stream",
          "name": "stdout",
          "text": [
            "<class 'pandas.core.frame.DataFrame'>\n",
            "RangeIndex: 768 entries, 0 to 767\n",
            "Data columns (total 9 columns):\n",
            " #   Column                    Non-Null Count  Dtype  \n",
            "---  ------                    --------------  -----  \n",
            " 0   Pregnancies               768 non-null    int64  \n",
            " 1   Glucose                   768 non-null    int64  \n",
            " 2   BloodPressure             768 non-null    int64  \n",
            " 3   SkinThickness             768 non-null    int64  \n",
            " 4   Insulin                   768 non-null    int64  \n",
            " 5   BMI                       768 non-null    float64\n",
            " 6   DiabetesPedigreeFunction  768 non-null    float64\n",
            " 7   Age                       768 non-null    int64  \n",
            " 8   Outcome                   768 non-null    int64  \n",
            "dtypes: float64(2), int64(7)\n",
            "memory usage: 54.1 KB\n"
          ]
        }
      ]
    },
    {
      "cell_type": "code",
      "source": [
        "# to know stat about the dataset\n",
        "df.describe() "
      ],
      "metadata": {
        "colab": {
          "base_uri": "https://localhost:8080/",
          "height": 300
        },
        "id": "mZDHizbI-JBq",
        "outputId": "2d72646c-d5b3-4d9c-f432-320d4f7934c5"
      },
      "execution_count": 375,
      "outputs": [
        {
          "output_type": "execute_result",
          "data": {
            "text/plain": [
              "       Pregnancies     Glucose  BloodPressure  SkinThickness     Insulin  \\\n",
              "count   768.000000  768.000000     768.000000     768.000000  768.000000   \n",
              "mean      3.845052  120.894531      69.105469      20.536458   79.799479   \n",
              "std       3.369578   31.972618      19.355807      15.952218  115.244002   \n",
              "min       0.000000    0.000000       0.000000       0.000000    0.000000   \n",
              "25%       1.000000   99.000000      62.000000       0.000000    0.000000   \n",
              "50%       3.000000  117.000000      72.000000      23.000000   30.500000   \n",
              "75%       6.000000  140.250000      80.000000      32.000000  127.250000   \n",
              "max      17.000000  199.000000     122.000000      99.000000  846.000000   \n",
              "\n",
              "              BMI  DiabetesPedigreeFunction         Age     Outcome  \n",
              "count  768.000000                768.000000  768.000000  768.000000  \n",
              "mean    31.992578                  0.471876   33.240885    0.348958  \n",
              "std      7.884160                  0.331329   11.760232    0.476951  \n",
              "min      0.000000                  0.078000   21.000000    0.000000  \n",
              "25%     27.300000                  0.243750   24.000000    0.000000  \n",
              "50%     32.000000                  0.372500   29.000000    0.000000  \n",
              "75%     36.600000                  0.626250   41.000000    1.000000  \n",
              "max     67.100000                  2.420000   81.000000    1.000000  "
            ],
            "text/html": [
              "\n",
              "  <div id=\"df-75d924a5-7bca-4b89-8af2-818c01129fc4\">\n",
              "    <div class=\"colab-df-container\">\n",
              "      <div>\n",
              "<style scoped>\n",
              "    .dataframe tbody tr th:only-of-type {\n",
              "        vertical-align: middle;\n",
              "    }\n",
              "\n",
              "    .dataframe tbody tr th {\n",
              "        vertical-align: top;\n",
              "    }\n",
              "\n",
              "    .dataframe thead th {\n",
              "        text-align: right;\n",
              "    }\n",
              "</style>\n",
              "<table border=\"1\" class=\"dataframe\">\n",
              "  <thead>\n",
              "    <tr style=\"text-align: right;\">\n",
              "      <th></th>\n",
              "      <th>Pregnancies</th>\n",
              "      <th>Glucose</th>\n",
              "      <th>BloodPressure</th>\n",
              "      <th>SkinThickness</th>\n",
              "      <th>Insulin</th>\n",
              "      <th>BMI</th>\n",
              "      <th>DiabetesPedigreeFunction</th>\n",
              "      <th>Age</th>\n",
              "      <th>Outcome</th>\n",
              "    </tr>\n",
              "  </thead>\n",
              "  <tbody>\n",
              "    <tr>\n",
              "      <th>count</th>\n",
              "      <td>768.000000</td>\n",
              "      <td>768.000000</td>\n",
              "      <td>768.000000</td>\n",
              "      <td>768.000000</td>\n",
              "      <td>768.000000</td>\n",
              "      <td>768.000000</td>\n",
              "      <td>768.000000</td>\n",
              "      <td>768.000000</td>\n",
              "      <td>768.000000</td>\n",
              "    </tr>\n",
              "    <tr>\n",
              "      <th>mean</th>\n",
              "      <td>3.845052</td>\n",
              "      <td>120.894531</td>\n",
              "      <td>69.105469</td>\n",
              "      <td>20.536458</td>\n",
              "      <td>79.799479</td>\n",
              "      <td>31.992578</td>\n",
              "      <td>0.471876</td>\n",
              "      <td>33.240885</td>\n",
              "      <td>0.348958</td>\n",
              "    </tr>\n",
              "    <tr>\n",
              "      <th>std</th>\n",
              "      <td>3.369578</td>\n",
              "      <td>31.972618</td>\n",
              "      <td>19.355807</td>\n",
              "      <td>15.952218</td>\n",
              "      <td>115.244002</td>\n",
              "      <td>7.884160</td>\n",
              "      <td>0.331329</td>\n",
              "      <td>11.760232</td>\n",
              "      <td>0.476951</td>\n",
              "    </tr>\n",
              "    <tr>\n",
              "      <th>min</th>\n",
              "      <td>0.000000</td>\n",
              "      <td>0.000000</td>\n",
              "      <td>0.000000</td>\n",
              "      <td>0.000000</td>\n",
              "      <td>0.000000</td>\n",
              "      <td>0.000000</td>\n",
              "      <td>0.078000</td>\n",
              "      <td>21.000000</td>\n",
              "      <td>0.000000</td>\n",
              "    </tr>\n",
              "    <tr>\n",
              "      <th>25%</th>\n",
              "      <td>1.000000</td>\n",
              "      <td>99.000000</td>\n",
              "      <td>62.000000</td>\n",
              "      <td>0.000000</td>\n",
              "      <td>0.000000</td>\n",
              "      <td>27.300000</td>\n",
              "      <td>0.243750</td>\n",
              "      <td>24.000000</td>\n",
              "      <td>0.000000</td>\n",
              "    </tr>\n",
              "    <tr>\n",
              "      <th>50%</th>\n",
              "      <td>3.000000</td>\n",
              "      <td>117.000000</td>\n",
              "      <td>72.000000</td>\n",
              "      <td>23.000000</td>\n",
              "      <td>30.500000</td>\n",
              "      <td>32.000000</td>\n",
              "      <td>0.372500</td>\n",
              "      <td>29.000000</td>\n",
              "      <td>0.000000</td>\n",
              "    </tr>\n",
              "    <tr>\n",
              "      <th>75%</th>\n",
              "      <td>6.000000</td>\n",
              "      <td>140.250000</td>\n",
              "      <td>80.000000</td>\n",
              "      <td>32.000000</td>\n",
              "      <td>127.250000</td>\n",
              "      <td>36.600000</td>\n",
              "      <td>0.626250</td>\n",
              "      <td>41.000000</td>\n",
              "      <td>1.000000</td>\n",
              "    </tr>\n",
              "    <tr>\n",
              "      <th>max</th>\n",
              "      <td>17.000000</td>\n",
              "      <td>199.000000</td>\n",
              "      <td>122.000000</td>\n",
              "      <td>99.000000</td>\n",
              "      <td>846.000000</td>\n",
              "      <td>67.100000</td>\n",
              "      <td>2.420000</td>\n",
              "      <td>81.000000</td>\n",
              "      <td>1.000000</td>\n",
              "    </tr>\n",
              "  </tbody>\n",
              "</table>\n",
              "</div>\n",
              "      <button class=\"colab-df-convert\" onclick=\"convertToInteractive('df-75d924a5-7bca-4b89-8af2-818c01129fc4')\"\n",
              "              title=\"Convert this dataframe to an interactive table.\"\n",
              "              style=\"display:none;\">\n",
              "        \n",
              "  <svg xmlns=\"http://www.w3.org/2000/svg\" height=\"24px\"viewBox=\"0 0 24 24\"\n",
              "       width=\"24px\">\n",
              "    <path d=\"M0 0h24v24H0V0z\" fill=\"none\"/>\n",
              "    <path d=\"M18.56 5.44l.94 2.06.94-2.06 2.06-.94-2.06-.94-.94-2.06-.94 2.06-2.06.94zm-11 1L8.5 8.5l.94-2.06 2.06-.94-2.06-.94L8.5 2.5l-.94 2.06-2.06.94zm10 10l.94 2.06.94-2.06 2.06-.94-2.06-.94-.94-2.06-.94 2.06-2.06.94z\"/><path d=\"M17.41 7.96l-1.37-1.37c-.4-.4-.92-.59-1.43-.59-.52 0-1.04.2-1.43.59L10.3 9.45l-7.72 7.72c-.78.78-.78 2.05 0 2.83L4 21.41c.39.39.9.59 1.41.59.51 0 1.02-.2 1.41-.59l7.78-7.78 2.81-2.81c.8-.78.8-2.07 0-2.86zM5.41 20L4 18.59l7.72-7.72 1.47 1.35L5.41 20z\"/>\n",
              "  </svg>\n",
              "      </button>\n",
              "      \n",
              "  <style>\n",
              "    .colab-df-container {\n",
              "      display:flex;\n",
              "      flex-wrap:wrap;\n",
              "      gap: 12px;\n",
              "    }\n",
              "\n",
              "    .colab-df-convert {\n",
              "      background-color: #E8F0FE;\n",
              "      border: none;\n",
              "      border-radius: 50%;\n",
              "      cursor: pointer;\n",
              "      display: none;\n",
              "      fill: #1967D2;\n",
              "      height: 32px;\n",
              "      padding: 0 0 0 0;\n",
              "      width: 32px;\n",
              "    }\n",
              "\n",
              "    .colab-df-convert:hover {\n",
              "      background-color: #E2EBFA;\n",
              "      box-shadow: 0px 1px 2px rgba(60, 64, 67, 0.3), 0px 1px 3px 1px rgba(60, 64, 67, 0.15);\n",
              "      fill: #174EA6;\n",
              "    }\n",
              "\n",
              "    [theme=dark] .colab-df-convert {\n",
              "      background-color: #3B4455;\n",
              "      fill: #D2E3FC;\n",
              "    }\n",
              "\n",
              "    [theme=dark] .colab-df-convert:hover {\n",
              "      background-color: #434B5C;\n",
              "      box-shadow: 0px 1px 3px 1px rgba(0, 0, 0, 0.15);\n",
              "      filter: drop-shadow(0px 1px 2px rgba(0, 0, 0, 0.3));\n",
              "      fill: #FFFFFF;\n",
              "    }\n",
              "  </style>\n",
              "\n",
              "      <script>\n",
              "        const buttonEl =\n",
              "          document.querySelector('#df-75d924a5-7bca-4b89-8af2-818c01129fc4 button.colab-df-convert');\n",
              "        buttonEl.style.display =\n",
              "          google.colab.kernel.accessAllowed ? 'block' : 'none';\n",
              "\n",
              "        async function convertToInteractive(key) {\n",
              "          const element = document.querySelector('#df-75d924a5-7bca-4b89-8af2-818c01129fc4');\n",
              "          const dataTable =\n",
              "            await google.colab.kernel.invokeFunction('convertToInteractive',\n",
              "                                                     [key], {});\n",
              "          if (!dataTable) return;\n",
              "\n",
              "          const docLinkHtml = 'Like what you see? Visit the ' +\n",
              "            '<a target=\"_blank\" href=https://colab.research.google.com/notebooks/data_table.ipynb>data table notebook</a>'\n",
              "            + ' to learn more about interactive tables.';\n",
              "          element.innerHTML = '';\n",
              "          dataTable['output_type'] = 'display_data';\n",
              "          await google.colab.output.renderOutput(dataTable, element);\n",
              "          const docLink = document.createElement('div');\n",
              "          docLink.innerHTML = docLinkHtml;\n",
              "          element.appendChild(docLink);\n",
              "        }\n",
              "      </script>\n",
              "    </div>\n",
              "  </div>\n",
              "  "
            ]
          },
          "metadata": {},
          "execution_count": 375
        }
      ]
    },
    {
      "cell_type": "markdown",
      "source": [
        "#data cleaning"
      ],
      "metadata": {
        "id": "yf55Y0nx-jKE"
      }
    },
    {
      "cell_type": "markdown",
      "source": [
        "#check the duplicates"
      ],
      "metadata": {
        "id": "7rlLzP-l-5Xd"
      }
    },
    {
      "cell_type": "code",
      "source": [
        "# to see the duplicates value in dataset the function is\n",
        "df.duplicated().sum()"
      ],
      "metadata": {
        "colab": {
          "base_uri": "https://localhost:8080/"
        },
        "id": "gwg8Hluk-d-T",
        "outputId": "a3386595-8789-491b-d618-c198fd71abc3"
      },
      "execution_count": 376,
      "outputs": [
        {
          "output_type": "execute_result",
          "data": {
            "text/plain": [
              "0"
            ]
          },
          "metadata": {},
          "execution_count": 376
        }
      ]
    },
    {
      "cell_type": "markdown",
      "source": [
        "# remove the unwanted colunms"
      ],
      "metadata": {
        "id": "cISwGwQy-9rR"
      }
    },
    {
      "cell_type": "code",
      "source": [
        "# to remove colunms and row  the function is\n",
        "df.drop(columns=[\"SkinThickness\",\"Age\"],axis=1,inplace=True)"
      ],
      "metadata": {
        "id": "8R0VgP-g-uR0"
      },
      "execution_count": 377,
      "outputs": []
    },
    {
      "cell_type": "code",
      "source": [
        "df.head()"
      ],
      "metadata": {
        "colab": {
          "base_uri": "https://localhost:8080/",
          "height": 206
        },
        "id": "Q_GSyVO6Aqum",
        "outputId": "15aac33a-337a-48bf-f26d-2ca2a914b7ae"
      },
      "execution_count": 378,
      "outputs": [
        {
          "output_type": "execute_result",
          "data": {
            "text/plain": [
              "   Pregnancies  Glucose  BloodPressure  Insulin   BMI  \\\n",
              "0            6      148             72        0  33.6   \n",
              "1            1       85             66        0  26.6   \n",
              "2            8      183             64        0  23.3   \n",
              "3            1       89             66       94  28.1   \n",
              "4            0      137             40      168  43.1   \n",
              "\n",
              "   DiabetesPedigreeFunction  Outcome  \n",
              "0                     0.627        1  \n",
              "1                     0.351        0  \n",
              "2                     0.672        1  \n",
              "3                     0.167        0  \n",
              "4                     2.288        1  "
            ],
            "text/html": [
              "\n",
              "  <div id=\"df-fe9d5651-40aa-4039-a928-af3a258fabc7\">\n",
              "    <div class=\"colab-df-container\">\n",
              "      <div>\n",
              "<style scoped>\n",
              "    .dataframe tbody tr th:only-of-type {\n",
              "        vertical-align: middle;\n",
              "    }\n",
              "\n",
              "    .dataframe tbody tr th {\n",
              "        vertical-align: top;\n",
              "    }\n",
              "\n",
              "    .dataframe thead th {\n",
              "        text-align: right;\n",
              "    }\n",
              "</style>\n",
              "<table border=\"1\" class=\"dataframe\">\n",
              "  <thead>\n",
              "    <tr style=\"text-align: right;\">\n",
              "      <th></th>\n",
              "      <th>Pregnancies</th>\n",
              "      <th>Glucose</th>\n",
              "      <th>BloodPressure</th>\n",
              "      <th>Insulin</th>\n",
              "      <th>BMI</th>\n",
              "      <th>DiabetesPedigreeFunction</th>\n",
              "      <th>Outcome</th>\n",
              "    </tr>\n",
              "  </thead>\n",
              "  <tbody>\n",
              "    <tr>\n",
              "      <th>0</th>\n",
              "      <td>6</td>\n",
              "      <td>148</td>\n",
              "      <td>72</td>\n",
              "      <td>0</td>\n",
              "      <td>33.6</td>\n",
              "      <td>0.627</td>\n",
              "      <td>1</td>\n",
              "    </tr>\n",
              "    <tr>\n",
              "      <th>1</th>\n",
              "      <td>1</td>\n",
              "      <td>85</td>\n",
              "      <td>66</td>\n",
              "      <td>0</td>\n",
              "      <td>26.6</td>\n",
              "      <td>0.351</td>\n",
              "      <td>0</td>\n",
              "    </tr>\n",
              "    <tr>\n",
              "      <th>2</th>\n",
              "      <td>8</td>\n",
              "      <td>183</td>\n",
              "      <td>64</td>\n",
              "      <td>0</td>\n",
              "      <td>23.3</td>\n",
              "      <td>0.672</td>\n",
              "      <td>1</td>\n",
              "    </tr>\n",
              "    <tr>\n",
              "      <th>3</th>\n",
              "      <td>1</td>\n",
              "      <td>89</td>\n",
              "      <td>66</td>\n",
              "      <td>94</td>\n",
              "      <td>28.1</td>\n",
              "      <td>0.167</td>\n",
              "      <td>0</td>\n",
              "    </tr>\n",
              "    <tr>\n",
              "      <th>4</th>\n",
              "      <td>0</td>\n",
              "      <td>137</td>\n",
              "      <td>40</td>\n",
              "      <td>168</td>\n",
              "      <td>43.1</td>\n",
              "      <td>2.288</td>\n",
              "      <td>1</td>\n",
              "    </tr>\n",
              "  </tbody>\n",
              "</table>\n",
              "</div>\n",
              "      <button class=\"colab-df-convert\" onclick=\"convertToInteractive('df-fe9d5651-40aa-4039-a928-af3a258fabc7')\"\n",
              "              title=\"Convert this dataframe to an interactive table.\"\n",
              "              style=\"display:none;\">\n",
              "        \n",
              "  <svg xmlns=\"http://www.w3.org/2000/svg\" height=\"24px\"viewBox=\"0 0 24 24\"\n",
              "       width=\"24px\">\n",
              "    <path d=\"M0 0h24v24H0V0z\" fill=\"none\"/>\n",
              "    <path d=\"M18.56 5.44l.94 2.06.94-2.06 2.06-.94-2.06-.94-.94-2.06-.94 2.06-2.06.94zm-11 1L8.5 8.5l.94-2.06 2.06-.94-2.06-.94L8.5 2.5l-.94 2.06-2.06.94zm10 10l.94 2.06.94-2.06 2.06-.94-2.06-.94-.94-2.06-.94 2.06-2.06.94z\"/><path d=\"M17.41 7.96l-1.37-1.37c-.4-.4-.92-.59-1.43-.59-.52 0-1.04.2-1.43.59L10.3 9.45l-7.72 7.72c-.78.78-.78 2.05 0 2.83L4 21.41c.39.39.9.59 1.41.59.51 0 1.02-.2 1.41-.59l7.78-7.78 2.81-2.81c.8-.78.8-2.07 0-2.86zM5.41 20L4 18.59l7.72-7.72 1.47 1.35L5.41 20z\"/>\n",
              "  </svg>\n",
              "      </button>\n",
              "      \n",
              "  <style>\n",
              "    .colab-df-container {\n",
              "      display:flex;\n",
              "      flex-wrap:wrap;\n",
              "      gap: 12px;\n",
              "    }\n",
              "\n",
              "    .colab-df-convert {\n",
              "      background-color: #E8F0FE;\n",
              "      border: none;\n",
              "      border-radius: 50%;\n",
              "      cursor: pointer;\n",
              "      display: none;\n",
              "      fill: #1967D2;\n",
              "      height: 32px;\n",
              "      padding: 0 0 0 0;\n",
              "      width: 32px;\n",
              "    }\n",
              "\n",
              "    .colab-df-convert:hover {\n",
              "      background-color: #E2EBFA;\n",
              "      box-shadow: 0px 1px 2px rgba(60, 64, 67, 0.3), 0px 1px 3px 1px rgba(60, 64, 67, 0.15);\n",
              "      fill: #174EA6;\n",
              "    }\n",
              "\n",
              "    [theme=dark] .colab-df-convert {\n",
              "      background-color: #3B4455;\n",
              "      fill: #D2E3FC;\n",
              "    }\n",
              "\n",
              "    [theme=dark] .colab-df-convert:hover {\n",
              "      background-color: #434B5C;\n",
              "      box-shadow: 0px 1px 3px 1px rgba(0, 0, 0, 0.15);\n",
              "      filter: drop-shadow(0px 1px 2px rgba(0, 0, 0, 0.3));\n",
              "      fill: #FFFFFF;\n",
              "    }\n",
              "  </style>\n",
              "\n",
              "      <script>\n",
              "        const buttonEl =\n",
              "          document.querySelector('#df-fe9d5651-40aa-4039-a928-af3a258fabc7 button.colab-df-convert');\n",
              "        buttonEl.style.display =\n",
              "          google.colab.kernel.accessAllowed ? 'block' : 'none';\n",
              "\n",
              "        async function convertToInteractive(key) {\n",
              "          const element = document.querySelector('#df-fe9d5651-40aa-4039-a928-af3a258fabc7');\n",
              "          const dataTable =\n",
              "            await google.colab.kernel.invokeFunction('convertToInteractive',\n",
              "                                                     [key], {});\n",
              "          if (!dataTable) return;\n",
              "\n",
              "          const docLinkHtml = 'Like what you see? Visit the ' +\n",
              "            '<a target=\"_blank\" href=https://colab.research.google.com/notebooks/data_table.ipynb>data table notebook</a>'\n",
              "            + ' to learn more about interactive tables.';\n",
              "          element.innerHTML = '';\n",
              "          dataTable['output_type'] = 'display_data';\n",
              "          await google.colab.output.renderOutput(dataTable, element);\n",
              "          const docLink = document.createElement('div');\n",
              "          docLink.innerHTML = docLinkHtml;\n",
              "          element.appendChild(docLink);\n",
              "        }\n",
              "      </script>\n",
              "    </div>\n",
              "  </div>\n",
              "  "
            ]
          },
          "metadata": {},
          "execution_count": 378
        }
      ]
    },
    {
      "cell_type": "markdown",
      "source": [
        "#remove the null values"
      ],
      "metadata": {
        "id": "MZ8H3jlEAz74"
      }
    },
    {
      "cell_type": "code",
      "source": [
        "# to chek the null value in dataset\n",
        "df.isnull().sum()"
      ],
      "metadata": {
        "colab": {
          "base_uri": "https://localhost:8080/"
        },
        "id": "cDDOuh_9AvkF",
        "outputId": "11b6ff91-f3f9-48ea-ab6f-b4ca264ca9b3"
      },
      "execution_count": 379,
      "outputs": [
        {
          "output_type": "execute_result",
          "data": {
            "text/plain": [
              "Pregnancies                 0\n",
              "Glucose                     0\n",
              "BloodPressure               0\n",
              "Insulin                     0\n",
              "BMI                         0\n",
              "DiabetesPedigreeFunction    0\n",
              "Outcome                     0\n",
              "dtype: int64"
            ]
          },
          "metadata": {},
          "execution_count": 379
        }
      ]
    },
    {
      "cell_type": "markdown",
      "source": [
        "# find the outlier"
      ],
      "metadata": {
        "id": "LBc-VKmsBHCG"
      }
    },
    {
      "cell_type": "code",
      "source": [
        "# to find the outliers\n",
        "df.skew()"
      ],
      "metadata": {
        "colab": {
          "base_uri": "https://localhost:8080/"
        },
        "id": "V_9OP3wlA_pQ",
        "outputId": "2c1d40e8-199e-42e2-e722-863fcf5a5b64"
      },
      "execution_count": 380,
      "outputs": [
        {
          "output_type": "execute_result",
          "data": {
            "text/plain": [
              "Pregnancies                 0.901674\n",
              "Glucose                     0.173754\n",
              "BloodPressure              -1.843608\n",
              "Insulin                     2.272251\n",
              "BMI                        -0.428982\n",
              "DiabetesPedigreeFunction    1.919911\n",
              "Outcome                     0.635017\n",
              "dtype: float64"
            ]
          },
          "metadata": {},
          "execution_count": 380
        }
      ]
    },
    {
      "cell_type": "code",
      "source": [
        "df[\"Insulin\"]=np.sqrt(df[\"Insulin\"])\n",
        "df[\"Insulin\"].skew()"
      ],
      "metadata": {
        "colab": {
          "base_uri": "https://localhost:8080/"
        },
        "id": "lTSfe3N4BMwP",
        "outputId": "35f2c681-88cc-4a30-b70d-f018950f16ff"
      },
      "execution_count": 381,
      "outputs": [
        {
          "output_type": "execute_result",
          "data": {
            "text/plain": [
              "0.6299554383696059"
            ]
          },
          "metadata": {},
          "execution_count": 381
        }
      ]
    },
    {
      "cell_type": "code",
      "source": [
        "q1=df[\"BloodPressure\"].quantile(0.25)\n",
        "q2=df[\"BloodPressure\"].quantile(0.75)"
      ],
      "metadata": {
        "id": "iyahofygJnKf"
      },
      "execution_count": 382,
      "outputs": []
    },
    {
      "cell_type": "code",
      "source": [
        "q1"
      ],
      "metadata": {
        "colab": {
          "base_uri": "https://localhost:8080/"
        },
        "id": "rQI_39BRKLVh",
        "outputId": "047578d4-1b12-4b92-8283-a09cfed2a4bb"
      },
      "execution_count": 383,
      "outputs": [
        {
          "output_type": "execute_result",
          "data": {
            "text/plain": [
              "62.0"
            ]
          },
          "metadata": {},
          "execution_count": 383
        }
      ]
    },
    {
      "cell_type": "code",
      "source": [
        "q2"
      ],
      "metadata": {
        "colab": {
          "base_uri": "https://localhost:8080/"
        },
        "id": "yuhCWVTUKO5O",
        "outputId": "7b127250-91c6-48ed-a4b6-00bc32082065"
      },
      "execution_count": 384,
      "outputs": [
        {
          "output_type": "execute_result",
          "data": {
            "text/plain": [
              "80.0"
            ]
          },
          "metadata": {},
          "execution_count": 384
        }
      ]
    },
    {
      "cell_type": "code",
      "source": [
        "df[\"BloodPressure\"]=np.where(df[\"BloodPressure\"]<q1,q1,df[\"BloodPressure\"])\n",
        "df[\"BloodPressure\"]=np.where(df[\"BloodPressure\"]>q2,q2,df[\"BloodPressure\"])"
      ],
      "metadata": {
        "id": "2kfrs305KaMN"
      },
      "execution_count": 385,
      "outputs": []
    },
    {
      "cell_type": "code",
      "source": [
        "df[\"BloodPressure\"].skew()"
      ],
      "metadata": {
        "colab": {
          "base_uri": "https://localhost:8080/"
        },
        "id": "vxS_ome1Ktyj",
        "outputId": "3a83b68d-5af8-4bde-dadf-222e3e669a9e"
      },
      "execution_count": 386,
      "outputs": [
        {
          "output_type": "execute_result",
          "data": {
            "text/plain": [
              "-0.05565802007337371"
            ]
          },
          "metadata": {},
          "execution_count": 386
        }
      ]
    },
    {
      "cell_type": "code",
      "source": [
        "df.skew()"
      ],
      "metadata": {
        "colab": {
          "base_uri": "https://localhost:8080/"
        },
        "id": "BSNpj5YLJQiM",
        "outputId": "116d5631-3352-4c09-cb61-bc2707a34bf7"
      },
      "execution_count": 387,
      "outputs": [
        {
          "output_type": "execute_result",
          "data": {
            "text/plain": [
              "Pregnancies                 0.901674\n",
              "Glucose                     0.173754\n",
              "BloodPressure              -0.055658\n",
              "Insulin                     0.629955\n",
              "BMI                        -0.428982\n",
              "DiabetesPedigreeFunction    1.919911\n",
              "Outcome                     0.635017\n",
              "dtype: float64"
            ]
          },
          "metadata": {},
          "execution_count": 387
        }
      ]
    },
    {
      "cell_type": "code",
      "source": [
        "df[\"DiabetesPedigreeFunction\"]=np.sqrt(df[\"DiabetesPedigreeFunction\"])\n",
        "df[\"DiabetesPedigreeFunction\"].skew()"
      ],
      "metadata": {
        "colab": {
          "base_uri": "https://localhost:8080/"
        },
        "id": "mp9Yh-ypJeTt",
        "outputId": "4ab670b7-f88c-41de-8189-7de714b6feac"
      },
      "execution_count": 388,
      "outputs": [
        {
          "output_type": "execute_result",
          "data": {
            "text/plain": [
              "0.9018017197488095"
            ]
          },
          "metadata": {},
          "execution_count": 388
        }
      ]
    },
    {
      "cell_type": "code",
      "source": [
        "df.skew()"
      ],
      "metadata": {
        "colab": {
          "base_uri": "https://localhost:8080/"
        },
        "id": "tCtSOuvSK9qC",
        "outputId": "a59a8061-c8a6-4f29-f6ef-4558dd83bc70"
      },
      "execution_count": 389,
      "outputs": [
        {
          "output_type": "execute_result",
          "data": {
            "text/plain": [
              "Pregnancies                 0.901674\n",
              "Glucose                     0.173754\n",
              "BloodPressure              -0.055658\n",
              "Insulin                     0.629955\n",
              "BMI                        -0.428982\n",
              "DiabetesPedigreeFunction    0.901802\n",
              "Outcome                     0.635017\n",
              "dtype: float64"
            ]
          },
          "metadata": {},
          "execution_count": 389
        }
      ]
    },
    {
      "cell_type": "markdown",
      "source": [
        "#correlation"
      ],
      "metadata": {
        "id": "MQDuTcZSLDEW"
      }
    },
    {
      "cell_type": "code",
      "source": [
        "# to check the correlation the function is \n",
        "corr=df.corr()"
      ],
      "metadata": {
        "id": "9yhT1G4ELAkW"
      },
      "execution_count": 390,
      "outputs": []
    },
    {
      "cell_type": "code",
      "source": [
        "corr"
      ],
      "metadata": {
        "colab": {
          "base_uri": "https://localhost:8080/",
          "height": 269
        },
        "id": "71wpZvpKLHEb",
        "outputId": "b344bb10-adab-4a4e-d6ee-143bcbcab5b0"
      },
      "execution_count": 391,
      "outputs": [
        {
          "output_type": "execute_result",
          "data": {
            "text/plain": [
              "                          Pregnancies   Glucose  BloodPressure   Insulin  \\\n",
              "Pregnancies                  1.000000  0.129459       0.207421 -0.118077   \n",
              "Glucose                      0.129459  1.000000       0.207536  0.238519   \n",
              "BloodPressure                0.207421  0.207536       1.000000 -0.018926   \n",
              "Insulin                     -0.118077  0.238519      -0.018926  1.000000   \n",
              "BMI                          0.017683  0.221071       0.286187  0.190503   \n",
              "DiabetesPedigreeFunction    -0.030336  0.127247       0.041914  0.204892   \n",
              "Outcome                      0.221898  0.466581       0.144738  0.072343   \n",
              "\n",
              "                               BMI  DiabetesPedigreeFunction   Outcome  \n",
              "Pregnancies               0.017683                 -0.030336  0.221898  \n",
              "Glucose                   0.221071                  0.127247  0.466581  \n",
              "BloodPressure             0.286187                  0.041914  0.144738  \n",
              "Insulin                   0.190503                  0.204892  0.072343  \n",
              "BMI                       1.000000                  0.144612  0.292695  \n",
              "DiabetesPedigreeFunction  0.144612                  1.000000  0.180998  \n",
              "Outcome                   0.292695                  0.180998  1.000000  "
            ],
            "text/html": [
              "\n",
              "  <div id=\"df-3953733a-d522-40ba-9b3c-d39bb3a67e11\">\n",
              "    <div class=\"colab-df-container\">\n",
              "      <div>\n",
              "<style scoped>\n",
              "    .dataframe tbody tr th:only-of-type {\n",
              "        vertical-align: middle;\n",
              "    }\n",
              "\n",
              "    .dataframe tbody tr th {\n",
              "        vertical-align: top;\n",
              "    }\n",
              "\n",
              "    .dataframe thead th {\n",
              "        text-align: right;\n",
              "    }\n",
              "</style>\n",
              "<table border=\"1\" class=\"dataframe\">\n",
              "  <thead>\n",
              "    <tr style=\"text-align: right;\">\n",
              "      <th></th>\n",
              "      <th>Pregnancies</th>\n",
              "      <th>Glucose</th>\n",
              "      <th>BloodPressure</th>\n",
              "      <th>Insulin</th>\n",
              "      <th>BMI</th>\n",
              "      <th>DiabetesPedigreeFunction</th>\n",
              "      <th>Outcome</th>\n",
              "    </tr>\n",
              "  </thead>\n",
              "  <tbody>\n",
              "    <tr>\n",
              "      <th>Pregnancies</th>\n",
              "      <td>1.000000</td>\n",
              "      <td>0.129459</td>\n",
              "      <td>0.207421</td>\n",
              "      <td>-0.118077</td>\n",
              "      <td>0.017683</td>\n",
              "      <td>-0.030336</td>\n",
              "      <td>0.221898</td>\n",
              "    </tr>\n",
              "    <tr>\n",
              "      <th>Glucose</th>\n",
              "      <td>0.129459</td>\n",
              "      <td>1.000000</td>\n",
              "      <td>0.207536</td>\n",
              "      <td>0.238519</td>\n",
              "      <td>0.221071</td>\n",
              "      <td>0.127247</td>\n",
              "      <td>0.466581</td>\n",
              "    </tr>\n",
              "    <tr>\n",
              "      <th>BloodPressure</th>\n",
              "      <td>0.207421</td>\n",
              "      <td>0.207536</td>\n",
              "      <td>1.000000</td>\n",
              "      <td>-0.018926</td>\n",
              "      <td>0.286187</td>\n",
              "      <td>0.041914</td>\n",
              "      <td>0.144738</td>\n",
              "    </tr>\n",
              "    <tr>\n",
              "      <th>Insulin</th>\n",
              "      <td>-0.118077</td>\n",
              "      <td>0.238519</td>\n",
              "      <td>-0.018926</td>\n",
              "      <td>1.000000</td>\n",
              "      <td>0.190503</td>\n",
              "      <td>0.204892</td>\n",
              "      <td>0.072343</td>\n",
              "    </tr>\n",
              "    <tr>\n",
              "      <th>BMI</th>\n",
              "      <td>0.017683</td>\n",
              "      <td>0.221071</td>\n",
              "      <td>0.286187</td>\n",
              "      <td>0.190503</td>\n",
              "      <td>1.000000</td>\n",
              "      <td>0.144612</td>\n",
              "      <td>0.292695</td>\n",
              "    </tr>\n",
              "    <tr>\n",
              "      <th>DiabetesPedigreeFunction</th>\n",
              "      <td>-0.030336</td>\n",
              "      <td>0.127247</td>\n",
              "      <td>0.041914</td>\n",
              "      <td>0.204892</td>\n",
              "      <td>0.144612</td>\n",
              "      <td>1.000000</td>\n",
              "      <td>0.180998</td>\n",
              "    </tr>\n",
              "    <tr>\n",
              "      <th>Outcome</th>\n",
              "      <td>0.221898</td>\n",
              "      <td>0.466581</td>\n",
              "      <td>0.144738</td>\n",
              "      <td>0.072343</td>\n",
              "      <td>0.292695</td>\n",
              "      <td>0.180998</td>\n",
              "      <td>1.000000</td>\n",
              "    </tr>\n",
              "  </tbody>\n",
              "</table>\n",
              "</div>\n",
              "      <button class=\"colab-df-convert\" onclick=\"convertToInteractive('df-3953733a-d522-40ba-9b3c-d39bb3a67e11')\"\n",
              "              title=\"Convert this dataframe to an interactive table.\"\n",
              "              style=\"display:none;\">\n",
              "        \n",
              "  <svg xmlns=\"http://www.w3.org/2000/svg\" height=\"24px\"viewBox=\"0 0 24 24\"\n",
              "       width=\"24px\">\n",
              "    <path d=\"M0 0h24v24H0V0z\" fill=\"none\"/>\n",
              "    <path d=\"M18.56 5.44l.94 2.06.94-2.06 2.06-.94-2.06-.94-.94-2.06-.94 2.06-2.06.94zm-11 1L8.5 8.5l.94-2.06 2.06-.94-2.06-.94L8.5 2.5l-.94 2.06-2.06.94zm10 10l.94 2.06.94-2.06 2.06-.94-2.06-.94-.94-2.06-.94 2.06-2.06.94z\"/><path d=\"M17.41 7.96l-1.37-1.37c-.4-.4-.92-.59-1.43-.59-.52 0-1.04.2-1.43.59L10.3 9.45l-7.72 7.72c-.78.78-.78 2.05 0 2.83L4 21.41c.39.39.9.59 1.41.59.51 0 1.02-.2 1.41-.59l7.78-7.78 2.81-2.81c.8-.78.8-2.07 0-2.86zM5.41 20L4 18.59l7.72-7.72 1.47 1.35L5.41 20z\"/>\n",
              "  </svg>\n",
              "      </button>\n",
              "      \n",
              "  <style>\n",
              "    .colab-df-container {\n",
              "      display:flex;\n",
              "      flex-wrap:wrap;\n",
              "      gap: 12px;\n",
              "    }\n",
              "\n",
              "    .colab-df-convert {\n",
              "      background-color: #E8F0FE;\n",
              "      border: none;\n",
              "      border-radius: 50%;\n",
              "      cursor: pointer;\n",
              "      display: none;\n",
              "      fill: #1967D2;\n",
              "      height: 32px;\n",
              "      padding: 0 0 0 0;\n",
              "      width: 32px;\n",
              "    }\n",
              "\n",
              "    .colab-df-convert:hover {\n",
              "      background-color: #E2EBFA;\n",
              "      box-shadow: 0px 1px 2px rgba(60, 64, 67, 0.3), 0px 1px 3px 1px rgba(60, 64, 67, 0.15);\n",
              "      fill: #174EA6;\n",
              "    }\n",
              "\n",
              "    [theme=dark] .colab-df-convert {\n",
              "      background-color: #3B4455;\n",
              "      fill: #D2E3FC;\n",
              "    }\n",
              "\n",
              "    [theme=dark] .colab-df-convert:hover {\n",
              "      background-color: #434B5C;\n",
              "      box-shadow: 0px 1px 3px 1px rgba(0, 0, 0, 0.15);\n",
              "      filter: drop-shadow(0px 1px 2px rgba(0, 0, 0, 0.3));\n",
              "      fill: #FFFFFF;\n",
              "    }\n",
              "  </style>\n",
              "\n",
              "      <script>\n",
              "        const buttonEl =\n",
              "          document.querySelector('#df-3953733a-d522-40ba-9b3c-d39bb3a67e11 button.colab-df-convert');\n",
              "        buttonEl.style.display =\n",
              "          google.colab.kernel.accessAllowed ? 'block' : 'none';\n",
              "\n",
              "        async function convertToInteractive(key) {\n",
              "          const element = document.querySelector('#df-3953733a-d522-40ba-9b3c-d39bb3a67e11');\n",
              "          const dataTable =\n",
              "            await google.colab.kernel.invokeFunction('convertToInteractive',\n",
              "                                                     [key], {});\n",
              "          if (!dataTable) return;\n",
              "\n",
              "          const docLinkHtml = 'Like what you see? Visit the ' +\n",
              "            '<a target=\"_blank\" href=https://colab.research.google.com/notebooks/data_table.ipynb>data table notebook</a>'\n",
              "            + ' to learn more about interactive tables.';\n",
              "          element.innerHTML = '';\n",
              "          dataTable['output_type'] = 'display_data';\n",
              "          await google.colab.output.renderOutput(dataTable, element);\n",
              "          const docLink = document.createElement('div');\n",
              "          docLink.innerHTML = docLinkHtml;\n",
              "          element.appendChild(docLink);\n",
              "        }\n",
              "      </script>\n",
              "    </div>\n",
              "  </div>\n",
              "  "
            ]
          },
          "metadata": {},
          "execution_count": 391
        }
      ]
    },
    {
      "cell_type": "markdown",
      "source": [
        "#Exploratory Data Analytics"
      ],
      "metadata": {
        "id": "-a7_-u8-PwOp"
      }
    },
    {
      "cell_type": "markdown",
      "source": [
        "#UNIVARATE ANALYSIS"
      ],
      "metadata": {
        "id": "0WxA_djDaCW2"
      }
    },
    {
      "cell_type": "code",
      "source": [
        "#  compare all attributes in dataset to came to the conclusion\n",
        "nums = [\"Pregnancies\",\"Glucose\",\"BloodPressure\",\"Insulin\",\"BMI\",\"DiabetesPedigreeFunction\",\"Outcome\"]\n",
        "for column in nums:\n",
        "    plt.figure(figsize=(8,4))\n",
        "    plt.hist(df[column])\n",
        "    plt.title(column)\n",
        "    plt.show()"
      ],
      "metadata": {
        "colab": {
          "base_uri": "https://localhost:8080/",
          "height": 1000
        },
        "id": "KcZfOUCJXjNY",
        "outputId": "0e7271e5-4159-4e06-8b64-3e9a31f276f7"
      },
      "execution_count": 392,
      "outputs": [
        {
          "output_type": "display_data",
          "data": {
            "text/plain": [
              "<Figure size 576x288 with 1 Axes>"
            ],
            "image/png": "[encoded data removed]"
          },
          "metadata": {
            "needs_background": "light"
          }
        },
        {
          "output_type": "display_data",
          "data": {
            "text/plain": [
              "<Figure size 576x288 with 1 Axes>"
            ],
            "image/png": "[encoded data removed]"
          },
          "metadata": {
            "needs_background": "light"
          }
        },
        {
          "output_type": "display_data",
          "data": {
            "text/plain": [
              "<Figure size 576x288 with 1 Axes>"
            ],
            "image/png": "[encoded data removed]"
          },
          "metadata": {
            "needs_background": "light"
          }
        },
        {
          "output_type": "display_data",
          "data": {
            "text/plain": [
              "<Figure size 576x288 with 1 Axes>"
            ],
            "image/png": "[encoded data removed]"
          },
          "metadata": {
            "needs_background": "light"
          }
        },
        {
          "output_type": "display_data",
          "data": {
            "text/plain": [
              "<Figure size 576x288 with 1 Axes>"
            ],
            "image/png": "[encoded data removed]"
          },
          "metadata": {
            "needs_background": "light"
          }
        },
        {
          "output_type": "display_data",
          "data": {
            "text/plain": [
              "<Figure size 576x288 with 1 Axes>"
            ],
            "image/png": "[encoded data removed]"
          },
          "metadata": {
            "needs_background": "light"
          }
        },
        {
          "output_type": "display_data",
          "data": {
            "text/plain": [
              "<Figure size 576x288 with 1 Axes>"
            ],
            "image/png": "[encoded data removed]"
          },
          "metadata": {
            "needs_background": "light"
          }
        }
      ]
    },
    {
      "cell_type": "markdown",
      "source": [
        "#Bivariate Analysis"
      ],
      "metadata": {
        "id": "kEnKSxrWceuB"
      }
    },
    {
      "cell_type": "code",
      "source": [
        "#Pregnancies v/s Outcome\n",
        "plt.figure(figsize=(12,5))\n",
        "sns.distplot(df[\"Pregnancies\"][df.Outcome==0])\n",
        "sns.distplot(df['Pregnancies'][df.Outcome==1])\n",
        "plt.legend(['Outcome=0','Outcome=1'])\n",
        "plt.show()"
      ],
      "metadata": {
        "colab": {
          "base_uri": "https://localhost:8080/",
          "height": 423
        },
        "id": "Rqv8ioMxYb8M",
        "outputId": "403ddd1c-d8a2-4fb5-f679-ad28764ac39e"
      },
      "execution_count": 393,
      "outputs": [
        {
          "output_type": "stream",
          "name": "stderr",
          "text": [
            "/usr/local/lib/python3.8/dist-packages/seaborn/distributions.py:2619: FutureWarning: `distplot` is a deprecated function and will be removed in a future version. Please adapt your code to use either `displot` (a figure-level function with similar flexibility) or `histplot` (an axes-level function for histograms).\n",
            "  warnings.warn(msg, FutureWarning)\n",
            "/usr/local/lib/python3.8/dist-packages/seaborn/distributions.py:2619: FutureWarning: `distplot` is a deprecated function and will be removed in a future version. Please adapt your code to use either `displot` (a figure-level function with similar flexibility) or `histplot` (an axes-level function for histograms).\n",
            "  warnings.warn(msg, FutureWarning)\n"
          ]
        },
        {
          "output_type": "display_data",
          "data": {
            "text/plain": [
              "<Figure size 864x360 with 1 Axes>"
            ],
            "image/png": "[encoded data removed]"
          },
          "metadata": {
            "needs_background": "light"
          }
        }
      ]
    },
    {
      "cell_type": "code",
      "source": [
        "#Glucose v/s Outcome\n",
        "plt.figure(figsize=(12,5))\n",
        "sns.distplot(df[\"Glucose\"][df.Outcome==0])\n",
        "sns.distplot(df['Glucose'][df.Outcome==1])\n",
        "plt.legend(['Outcome=0','Outcome=1'])\n",
        "plt.show()"
      ],
      "metadata": {
        "colab": {
          "base_uri": "https://localhost:8080/",
          "height": 423
        },
        "id": "6iZJKSRpd8l3",
        "outputId": "063a1f40-9f57-410f-e084-c3c9d1298c49"
      },
      "execution_count": 394,
      "outputs": [
        {
          "output_type": "stream",
          "name": "stderr",
          "text": [
            "/usr/local/lib/python3.8/dist-packages/seaborn/distributions.py:2619: FutureWarning: `distplot` is a deprecated function and will be removed in a future version. Please adapt your code to use either `displot` (a figure-level function with similar flexibility) or `histplot` (an axes-level function for histograms).\n",
            "  warnings.warn(msg, FutureWarning)\n",
            "/usr/local/lib/python3.8/dist-packages/seaborn/distributions.py:2619: FutureWarning: `distplot` is a deprecated function and will be removed in a future version. Please adapt your code to use either `displot` (a figure-level function with similar flexibility) or `histplot` (an axes-level function for histograms).\n",
            "  warnings.warn(msg, FutureWarning)\n"
          ]
        },
        {
          "output_type": "display_data",
          "data": {
            "text/plain": [
              "<Figure size 864x360 with 1 Axes>"
            ],
            "image/png": "[encoded data removed]"
          },
          "metadata": {
            "needs_background": "light"
          }
        }
      ]
    },
    {
      "cell_type": "code",
      "source": [
        "#BloodPressure v/s Outcome\n",
        "plt.figure(figsize=(12,5))\n",
        "sns.distplot(df[\"BloodPressure\"][df.Outcome==0])\n",
        "sns.distplot(df['BloodPressure'][df.Outcome==1])\n",
        "plt.legend(['Outcome=0','Outcome=1'])\n",
        "plt.show()"
      ],
      "metadata": {
        "colab": {
          "base_uri": "https://localhost:8080/",
          "height": 423
        },
        "id": "lkgf5brQeGPW",
        "outputId": "1c3a855d-1680-4f1f-92d1-648b6df468a0"
      },
      "execution_count": 395,
      "outputs": [
        {
          "output_type": "stream",
          "name": "stderr",
          "text": [
            "/usr/local/lib/python3.8/dist-packages/seaborn/distributions.py:2619: FutureWarning: `distplot` is a deprecated function and will be removed in a future version. Please adapt your code to use either `displot` (a figure-level function with similar flexibility) or `histplot` (an axes-level function for histograms).\n",
            "  warnings.warn(msg, FutureWarning)\n",
            "/usr/local/lib/python3.8/dist-packages/seaborn/distributions.py:2619: FutureWarning: `distplot` is a deprecated function and will be removed in a future version. Please adapt your code to use either `displot` (a figure-level function with similar flexibility) or `histplot` (an axes-level function for histograms).\n",
            "  warnings.warn(msg, FutureWarning)\n"
          ]
        },
        {
          "output_type": "display_data",
          "data": {
            "text/plain": [
              "<Figure size 864x360 with 1 Axes>"
            ],
            "image/png": "[encoded data removed]"
          },
          "metadata": {
            "needs_background": "light"
          }
        }
      ]
    },
    {
      "cell_type": "code",
      "source": [
        "#Insulin v/s Outcome\n",
        "plt.figure(figsize=(12,5))\n",
        "sns.distplot(df[\"Insulin\"][df.Outcome==0])\n",
        "sns.distplot(df['Insulin'][df.Outcome==1])\n",
        "plt.legend(['Outcome=0','Outcome=1'])\n",
        "plt.show()"
      ],
      "metadata": {
        "colab": {
          "base_uri": "https://localhost:8080/",
          "height": 423
        },
        "id": "Z1IxAoAmeNfU",
        "outputId": "a8768dcb-b6cd-4833-fdea-eecfafa3eb27"
      },
      "execution_count": 396,
      "outputs": [
        {
          "output_type": "stream",
          "name": "stderr",
          "text": [
            "/usr/local/lib/python3.8/dist-packages/seaborn/distributions.py:2619: FutureWarning: `distplot` is a deprecated function and will be removed in a future version. Please adapt your code to use either `displot` (a figure-level function with similar flexibility) or `histplot` (an axes-level function for histograms).\n",
            "  warnings.warn(msg, FutureWarning)\n",
            "/usr/local/lib/python3.8/dist-packages/seaborn/distributions.py:2619: FutureWarning: `distplot` is a deprecated function and will be removed in a future version. Please adapt your code to use either `displot` (a figure-level function with similar flexibility) or `histplot` (an axes-level function for histograms).\n",
            "  warnings.warn(msg, FutureWarning)\n"
          ]
        },
        {
          "output_type": "display_data",
          "data": {
            "text/plain": [
              "<Figure size 864x360 with 1 Axes>"
            ],
            "image/png": "[encoded data removed]"
          },
          "metadata": {
            "needs_background": "light"
          }
        }
      ]
    },
    {
      "cell_type": "code",
      "source": [
        "#BMI v/s Outcome\n",
        "plt.figure(figsize=(12,5))\n",
        "sns.distplot(df[\"BMI\"][df.Outcome==0])\n",
        "sns.distplot(df['BMI'][df.Outcome==1])\n",
        "plt.legend(['Outcome=0','Outcome=1'])\n",
        "plt.show()"
      ],
      "metadata": {
        "colab": {
          "base_uri": "https://localhost:8080/",
          "height": 423
        },
        "id": "xToE0K2ceXGJ",
        "outputId": "4eafe558-1fb6-459a-da57-ea2e07a95055"
      },
      "execution_count": 397,
      "outputs": [
        {
          "output_type": "stream",
          "name": "stderr",
          "text": [
            "/usr/local/lib/python3.8/dist-packages/seaborn/distributions.py:2619: FutureWarning: `distplot` is a deprecated function and will be removed in a future version. Please adapt your code to use either `displot` (a figure-level function with similar flexibility) or `histplot` (an axes-level function for histograms).\n",
            "  warnings.warn(msg, FutureWarning)\n",
            "/usr/local/lib/python3.8/dist-packages/seaborn/distributions.py:2619: FutureWarning: `distplot` is a deprecated function and will be removed in a future version. Please adapt your code to use either `displot` (a figure-level function with similar flexibility) or `histplot` (an axes-level function for histograms).\n",
            "  warnings.warn(msg, FutureWarning)\n"
          ]
        },
        {
          "output_type": "display_data",
          "data": {
            "text/plain": [
              "<Figure size 864x360 with 1 Axes>"
            ],
            "image/png": "[encoded data removed]"
          },
          "metadata": {
            "needs_background": "light"
          }
        }
      ]
    },
    {
      "cell_type": "code",
      "source": [
        "#DiabetesPedigreeFunction v/s Outcome\n",
        "plt.figure(figsize=(12,5))\n",
        "sns.distplot(df[\"DiabetesPedigreeFunction\"][df.Outcome==0])\n",
        "sns.distplot(df['DiabetesPedigreeFunction'][df.Outcome==1])\n",
        "plt.legend(['Outcome=0','Outcome=1'])\n",
        "plt.show()"
      ],
      "metadata": {
        "colab": {
          "base_uri": "https://localhost:8080/",
          "height": 423
        },
        "id": "igNtFEw8eiCy",
        "outputId": "0a75a8e4-07cf-450d-943c-b74ca4557055"
      },
      "execution_count": 398,
      "outputs": [
        {
          "output_type": "stream",
          "name": "stderr",
          "text": [
            "/usr/local/lib/python3.8/dist-packages/seaborn/distributions.py:2619: FutureWarning: `distplot` is a deprecated function and will be removed in a future version. Please adapt your code to use either `displot` (a figure-level function with similar flexibility) or `histplot` (an axes-level function for histograms).\n",
            "  warnings.warn(msg, FutureWarning)\n",
            "/usr/local/lib/python3.8/dist-packages/seaborn/distributions.py:2619: FutureWarning: `distplot` is a deprecated function and will be removed in a future version. Please adapt your code to use either `displot` (a figure-level function with similar flexibility) or `histplot` (an axes-level function for histograms).\n",
            "  warnings.warn(msg, FutureWarning)\n"
          ]
        },
        {
          "output_type": "display_data",
          "data": {
            "text/plain": [
              "<Figure size 864x360 with 1 Axes>"
            ],
            "image/png": "[encoded data removed]"
          },
          "metadata": {
            "needs_background": "light"
          }
        }
      ]
    },
    {
      "cell_type": "markdown",
      "source": [
        "#building the model"
      ],
      "metadata": {
        "id": "bckjO-aGoIjh"
      }
    },
    {
      "cell_type": "markdown",
      "source": [
        "separating the indepenceies and depenceies variable as x and y"
      ],
      "metadata": {
        "id": "dqxfYfdc4JTK"
      }
    },
    {
      "cell_type": "code",
      "source": [
        "x=df.drop(\"Outcome\",axis=1)"
      ],
      "metadata": {
        "id": "KbWa-YDqn-wX"
      },
      "execution_count": 399,
      "outputs": []
    },
    {
      "cell_type": "code",
      "source": [
        "x"
      ],
      "metadata": {
        "colab": {
          "base_uri": "https://localhost:8080/",
          "height": 424
        },
        "id": "lCGT4skvofSD",
        "outputId": "540ca807-01b3-4c70-e61c-55ce1312cbce"
      },
      "execution_count": 400,
      "outputs": [
        {
          "output_type": "execute_result",
          "data": {
            "text/plain": [
              "     Pregnancies  Glucose  BloodPressure    Insulin   BMI  \\\n",
              "0              6      148           72.0   0.000000  33.6   \n",
              "1              1       85           66.0   0.000000  26.6   \n",
              "2              8      183           64.0   0.000000  23.3   \n",
              "3              1       89           66.0   9.695360  28.1   \n",
              "4              0      137           62.0  12.961481  43.1   \n",
              "..           ...      ...            ...        ...   ...   \n",
              "763           10      101           76.0  13.416408  32.9   \n",
              "764            2      122           70.0   0.000000  36.8   \n",
              "765            5      121           72.0  10.583005  26.2   \n",
              "766            1      126           62.0   0.000000  30.1   \n",
              "767            1       93           70.0   0.000000  30.4   \n",
              "\n",
              "     DiabetesPedigreeFunction  \n",
              "0                    0.791833  \n",
              "1                    0.592453  \n",
              "2                    0.819756  \n",
              "3                    0.408656  \n",
              "4                    1.512614  \n",
              "..                        ...  \n",
              "763                  0.413521  \n",
              "764                  0.583095  \n",
              "765                  0.494975  \n",
              "766                  0.590762  \n",
              "767                  0.561249  \n",
              "\n",
              "[768 rows x 6 columns]"
            ],
            "text/html": [
              "\n",
              "  <div id=\"df-23ff14dd-334d-44d9-a78a-fa819aa6a781\">\n",
              "    <div class=\"colab-df-container\">\n",
              "      <div>\n",
              "<style scoped>\n",
              "    .dataframe tbody tr th:only-of-type {\n",
              "        vertical-align: middle;\n",
              "    }\n",
              "\n",
              "    .dataframe tbody tr th {\n",
              "        vertical-align: top;\n",
              "    }\n",
              "\n",
              "    .dataframe thead th {\n",
              "        text-align: right;\n",
              "    }\n",
              "</style>\n",
              "<table border=\"1\" class=\"dataframe\">\n",
              "  <thead>\n",
              "    <tr style=\"text-align: right;\">\n",
              "      <th></th>\n",
              "      <th>Pregnancies</th>\n",
              "      <th>Glucose</th>\n",
              "      <th>BloodPressure</th>\n",
              "      <th>Insulin</th>\n",
              "      <th>BMI</th>\n",
              "      <th>DiabetesPedigreeFunction</th>\n",
              "    </tr>\n",
              "  </thead>\n",
              "  <tbody>\n",
              "    <tr>\n",
              "      <th>0</th>\n",
              "      <td>6</td>\n",
              "      <td>148</td>\n",
              "      <td>72.0</td>\n",
              "      <td>0.000000</td>\n",
              "      <td>33.6</td>\n",
              "      <td>0.791833</td>\n",
              "    </tr>\n",
              "    <tr>\n",
              "      <th>1</th>\n",
              "      <td>1</td>\n",
              "      <td>85</td>\n",
              "      <td>66.0</td>\n",
              "      <td>0.000000</td>\n",
              "      <td>26.6</td>\n",
              "      <td>0.592453</td>\n",
              "    </tr>\n",
              "    <tr>\n",
              "      <th>2</th>\n",
              "      <td>8</td>\n",
              "      <td>183</td>\n",
              "      <td>64.0</td>\n",
              "      <td>0.000000</td>\n",
              "      <td>23.3</td>\n",
              "      <td>0.819756</td>\n",
              "    </tr>\n",
              "    <tr>\n",
              "      <th>3</th>\n",
              "      <td>1</td>\n",
              "      <td>89</td>\n",
              "      <td>66.0</td>\n",
              "      <td>9.695360</td>\n",
              "      <td>28.1</td>\n",
              "      <td>0.408656</td>\n",
              "    </tr>\n",
              "    <tr>\n",
              "      <th>4</th>\n",
              "      <td>0</td>\n",
              "      <td>137</td>\n",
              "      <td>62.0</td>\n",
              "      <td>12.961481</td>\n",
              "      <td>43.1</td>\n",
              "      <td>1.512614</td>\n",
              "    </tr>\n",
              "    <tr>\n",
              "      <th>...</th>\n",
              "      <td>...</td>\n",
              "      <td>...</td>\n",
              "      <td>...</td>\n",
              "      <td>...</td>\n",
              "      <td>...</td>\n",
              "      <td>...</td>\n",
              "    </tr>\n",
              "    <tr>\n",
              "      <th>763</th>\n",
              "      <td>10</td>\n",
              "      <td>101</td>\n",
              "      <td>76.0</td>\n",
              "      <td>13.416408</td>\n",
              "      <td>32.9</td>\n",
              "      <td>0.413521</td>\n",
              "    </tr>\n",
              "    <tr>\n",
              "      <th>764</th>\n",
              "      <td>2</td>\n",
              "      <td>122</td>\n",
              "      <td>70.0</td>\n",
              "      <td>0.000000</td>\n",
              "      <td>36.8</td>\n",
              "      <td>0.583095</td>\n",
              "    </tr>\n",
              "    <tr>\n",
              "      <th>765</th>\n",
              "      <td>5</td>\n",
              "      <td>121</td>\n",
              "      <td>72.0</td>\n",
              "      <td>10.583005</td>\n",
              "      <td>26.2</td>\n",
              "      <td>0.494975</td>\n",
              "    </tr>\n",
              "    <tr>\n",
              "      <th>766</th>\n",
              "      <td>1</td>\n",
              "      <td>126</td>\n",
              "      <td>62.0</td>\n",
              "      <td>0.000000</td>\n",
              "      <td>30.1</td>\n",
              "      <td>0.590762</td>\n",
              "    </tr>\n",
              "    <tr>\n",
              "      <th>767</th>\n",
              "      <td>1</td>\n",
              "      <td>93</td>\n",
              "      <td>70.0</td>\n",
              "      <td>0.000000</td>\n",
              "      <td>30.4</td>\n",
              "      <td>0.561249</td>\n",
              "    </tr>\n",
              "  </tbody>\n",
              "</table>\n",
              "<p>768 rows × 6 columns</p>\n",
              "</div>\n",
              "      <button class=\"colab-df-convert\" onclick=\"convertToInteractive('df-23ff14dd-334d-44d9-a78a-fa819aa6a781')\"\n",
              "              title=\"Convert this dataframe to an interactive table.\"\n",
              "              style=\"display:none;\">\n",
              "        \n",
              "  <svg xmlns=\"http://www.w3.org/2000/svg\" height=\"24px\"viewBox=\"0 0 24 24\"\n",
              "       width=\"24px\">\n",
              "    <path d=\"M0 0h24v24H0V0z\" fill=\"none\"/>\n",
              "    <path d=\"M18.56 5.44l.94 2.06.94-2.06 2.06-.94-2.06-.94-.94-2.06-.94 2.06-2.06.94zm-11 1L8.5 8.5l.94-2.06 2.06-.94-2.06-.94L8.5 2.5l-.94 2.06-2.06.94zm10 10l.94 2.06.94-2.06 2.06-.94-2.06-.94-.94-2.06-.94 2.06-2.06.94z\"/><path d=\"M17.41 7.96l-1.37-1.37c-.4-.4-.92-.59-1.43-.59-.52 0-1.04.2-1.43.59L10.3 9.45l-7.72 7.72c-.78.78-.78 2.05 0 2.83L4 21.41c.39.39.9.59 1.41.59.51 0 1.02-.2 1.41-.59l7.78-7.78 2.81-2.81c.8-.78.8-2.07 0-2.86zM5.41 20L4 18.59l7.72-7.72 1.47 1.35L5.41 20z\"/>\n",
              "  </svg>\n",
              "      </button>\n",
              "      \n",
              "  <style>\n",
              "    .colab-df-container {\n",
              "      display:flex;\n",
              "      flex-wrap:wrap;\n",
              "      gap: 12px;\n",
              "    }\n",
              "\n",
              "    .colab-df-convert {\n",
              "      background-color: #E8F0FE;\n",
              "      border: none;\n",
              "      border-radius: 50%;\n",
              "      cursor: pointer;\n",
              "      display: none;\n",
              "      fill: #1967D2;\n",
              "      height: 32px;\n",
              "      padding: 0 0 0 0;\n",
              "      width: 32px;\n",
              "    }\n",
              "\n",
              "    .colab-df-convert:hover {\n",
              "      background-color: #E2EBFA;\n",
              "      box-shadow: 0px 1px 2px rgba(60, 64, 67, 0.3), 0px 1px 3px 1px rgba(60, 64, 67, 0.15);\n",
              "      fill: #174EA6;\n",
              "    }\n",
              "\n",
              "    [theme=dark] .colab-df-convert {\n",
              "      background-color: #3B4455;\n",
              "      fill: #D2E3FC;\n",
              "    }\n",
              "\n",
              "    [theme=dark] .colab-df-convert:hover {\n",
              "      background-color: #434B5C;\n",
              "      box-shadow: 0px 1px 3px 1px rgba(0, 0, 0, 0.15);\n",
              "      filter: drop-shadow(0px 1px 2px rgba(0, 0, 0, 0.3));\n",
              "      fill: #FFFFFF;\n",
              "    }\n",
              "  </style>\n",
              "\n",
              "      <script>\n",
              "        const buttonEl =\n",
              "          document.querySelector('#df-23ff14dd-334d-44d9-a78a-fa819aa6a781 button.colab-df-convert');\n",
              "        buttonEl.style.display =\n",
              "          google.colab.kernel.accessAllowed ? 'block' : 'none';\n",
              "\n",
              "        async function convertToInteractive(key) {\n",
              "          const element = document.querySelector('#df-23ff14dd-334d-44d9-a78a-fa819aa6a781');\n",
              "          const dataTable =\n",
              "            await google.colab.kernel.invokeFunction('convertToInteractive',\n",
              "                                                     [key], {});\n",
              "          if (!dataTable) return;\n",
              "\n",
              "          const docLinkHtml = 'Like what you see? Visit the ' +\n",
              "            '<a target=\"_blank\" href=https://colab.research.google.com/notebooks/data_table.ipynb>data table notebook</a>'\n",
              "            + ' to learn more about interactive tables.';\n",
              "          element.innerHTML = '';\n",
              "          dataTable['output_type'] = 'display_data';\n",
              "          await google.colab.output.renderOutput(dataTable, element);\n",
              "          const docLink = document.createElement('div');\n",
              "          docLink.innerHTML = docLinkHtml;\n",
              "          element.appendChild(docLink);\n",
              "        }\n",
              "      </script>\n",
              "    </div>\n",
              "  </div>\n",
              "  "
            ]
          },
          "metadata": {},
          "execution_count": 400
        }
      ]
    },
    {
      "cell_type": "code",
      "source": [
        "# standarzies all value in datset in one range of values\n",
        "from sklearn.preprocessing import StandardScaler\n",
        "scaler=StandardScaler()\n",
        "X=scaler.fit_transform(x)"
      ],
      "metadata": {
        "id": "eK1PPwIamJ6r"
      },
      "execution_count": 401,
      "outputs": []
    },
    {
      "cell_type": "code",
      "source": [
        "X"
      ],
      "metadata": {
        "colab": {
          "base_uri": "https://localhost:8080/"
        },
        "id": "Vmbo3PFymh5l",
        "outputId": "b44432f3-7200-42ed-893d-3bd2b689b267"
      },
      "execution_count": 402,
      "outputs": [
        {
          "output_type": "execute_result",
          "data": {
            "text/plain": [
              "array([[ 0.63994726,  0.84832379,  0.10935143, -0.91502233,  0.20401277,\n",
              "         0.64652068],\n",
              "       [-0.84488505, -1.12339636, -0.72628936, -0.91502233, -0.68442195,\n",
              "        -0.27524256],\n",
              "       [ 1.23388019,  1.94372388, -1.0048363 , -0.91502233, -1.10325546,\n",
              "         0.77561115],\n",
              "       ...,\n",
              "       [ 0.3429808 ,  0.00330087,  0.10935143,  0.69079073, -0.73518964,\n",
              "        -0.725895  ],\n",
              "       [-0.84488505,  0.1597866 , -1.28338323, -0.91502233, -0.24020459,\n",
              "        -0.28305709],\n",
              "       [-0.84488505, -0.8730192 , -0.1691955 , -0.91502233, -0.20212881,\n",
              "        -0.41950234]])"
            ]
          },
          "metadata": {},
          "execution_count": 402
        }
      ]
    },
    {
      "cell_type": "code",
      "source": [
        "y=df[\"Outcome\"]"
      ],
      "metadata": {
        "id": "bH0kK_kwohrG"
      },
      "execution_count": 403,
      "outputs": []
    },
    {
      "cell_type": "code",
      "source": [
        "y"
      ],
      "metadata": {
        "colab": {
          "base_uri": "https://localhost:8080/"
        },
        "id": "JAqFT9cdoqnY",
        "outputId": "f8dee14b-f997-4535-8b2e-66e63739e103"
      },
      "execution_count": 404,
      "outputs": [
        {
          "output_type": "execute_result",
          "data": {
            "text/plain": [
              "0      1\n",
              "1      0\n",
              "2      1\n",
              "3      0\n",
              "4      1\n",
              "      ..\n",
              "763    0\n",
              "764    0\n",
              "765    0\n",
              "766    1\n",
              "767    0\n",
              "Name: Outcome, Length: 768, dtype: int64"
            ]
          },
          "metadata": {},
          "execution_count": 404
        }
      ]
    },
    {
      "cell_type": "code",
      "source": [
        "print(X)\n",
        "print(y)"
      ],
      "metadata": {
        "colab": {
          "base_uri": "https://localhost:8080/"
        },
        "id": "MnaU7bTrnnWd",
        "outputId": "b9b10964-bb52-4eee-d6dc-93187f01d872"
      },
      "execution_count": 405,
      "outputs": [
        {
          "output_type": "stream",
          "name": "stdout",
          "text": [
            "[[ 0.63994726  0.84832379  0.10935143 -0.91502233  0.20401277  0.64652068]\n",
            " [-0.84488505 -1.12339636 -0.72628936 -0.91502233 -0.68442195 -0.27524256]\n",
            " [ 1.23388019  1.94372388 -1.0048363  -0.91502233 -1.10325546  0.77561115]\n",
            " ...\n",
            " [ 0.3429808   0.00330087  0.10935143  0.69079073 -0.73518964 -0.725895  ]\n",
            " [-0.84488505  0.1597866  -1.28338323 -0.91502233 -0.24020459 -0.28305709]\n",
            " [-0.84488505 -0.8730192  -0.1691955  -0.91502233 -0.20212881 -0.41950234]]\n",
            "0      1\n",
            "1      0\n",
            "2      1\n",
            "3      0\n",
            "4      1\n",
            "      ..\n",
            "763    0\n",
            "764    0\n",
            "765    0\n",
            "766    1\n",
            "767    0\n",
            "Name: Outcome, Length: 768, dtype: int64\n"
          ]
        }
      ]
    },
    {
      "cell_type": "markdown",
      "source": [
        "spliting the dataset into training datset and testing dataset"
      ],
      "metadata": {
        "id": "Ak_s_E5q4gX5"
      }
    },
    {
      "cell_type": "code",
      "source": [
        "# this is step we are going to split the dataset into train_dataset and test_dataset and import library from sklearn\n",
        "from sklearn.model_selection import train_test_split\n",
        "X_train,X_test,y_train,y_test=train_test_split(X,y,train_size=0.8,stratify=y,random_state=0)"
      ],
      "metadata": {
        "id": "hl7g7_zAerVu"
      },
      "execution_count": 406,
      "outputs": []
    },
    {
      "cell_type": "code",
      "source": [
        "X_train.shape"
      ],
      "metadata": {
        "colab": {
          "base_uri": "https://localhost:8080/"
        },
        "id": "cNMpyTpwn1fL",
        "outputId": "96afb13a-d75c-4553-aa8a-b4cd3c35f8a0"
      },
      "execution_count": 407,
      "outputs": [
        {
          "output_type": "execute_result",
          "data": {
            "text/plain": [
              "(614, 6)"
            ]
          },
          "metadata": {},
          "execution_count": 407
        }
      ]
    },
    {
      "cell_type": "code",
      "source": [
        "y_train.shape"
      ],
      "metadata": {
        "colab": {
          "base_uri": "https://localhost:8080/"
        },
        "id": "-ATjAVOPo2gC",
        "outputId": "fe68a487-1798-42f2-c5be-5cda93f5142f"
      },
      "execution_count": 408,
      "outputs": [
        {
          "output_type": "execute_result",
          "data": {
            "text/plain": [
              "(614,)"
            ]
          },
          "metadata": {},
          "execution_count": 408
        }
      ]
    },
    {
      "cell_type": "markdown",
      "source": [
        "#support vector machine "
      ],
      "metadata": {
        "id": "cB-xmXkso9iZ"
      }
    },
    {
      "cell_type": "markdown",
      "source": [
        "Support Vector Machine or SVM is one of the most popular Supervised Learning algorithms, which is used for Classification as well as Regression problems. However, primarily, it is used for Classification problems in Machine Learning.\n",
        "\n",
        "The goal of the SVM algorithm is to create the best line or decision boundary that can segregate n-dimensional space into classes so that we can easily put the new data point in the correct category in the future. This best decision boundary is called a hyperplane.\n",
        "\n",
        "SVM chooses the extreme points/vectors that help in creating the hyperplane. These extreme cases are called as support vectors, and hence algorithm is termed as Support Vector Machine. Consider the below diagram in which there are two different categories that are classified using a decision boundary or hyperplane:\n",
        "\n"
      ],
      "metadata": {
        "id": "-WiRGkUspzQP"
      }
    },
    {
      "cell_type": "markdown",
      "source": [
        "![support-vector-machine-algorithm.png](data:image/png;base64,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)"
      ],
      "metadata": {
        "id": "ZIymDLv1p4HV"
      }
    },
    {
      "cell_type": "markdown",
      "source": [
        "# building the model"
      ],
      "metadata": {
        "id": "OxaIuPiy4pWZ"
      }
    },
    {
      "cell_type": "code",
      "source": [
        "from sklearn.svm import SVC\n",
        "model=SVC(kernel=\"linear\")\n",
        "model.fit(X_train,y_train)"
      ],
      "metadata": {
        "id": "-DDaeM4urKct",
        "colab": {
          "base_uri": "https://localhost:8080/"
        },
        "outputId": "927c9885-3242-48ed-8b27-ac543f3ad62b"
      },
      "execution_count": 409,
      "outputs": [
        {
          "output_type": "execute_result",
          "data": {
            "text/plain": [
              "SVC(kernel='linear')"
            ]
          },
          "metadata": {},
          "execution_count": 409
        }
      ]
    },
    {
      "cell_type": "markdown",
      "source": [
        "prediction"
      ],
      "metadata": {
        "id": "sUw_O9Wy4uLN"
      }
    },
    {
      "cell_type": "code",
      "source": [
        "y_pred=model.predict(X_test)\n",
        "y_pred"
      ],
      "metadata": {
        "colab": {
          "base_uri": "https://localhost:8080/"
        },
        "id": "pPgGsFHqqzq3",
        "outputId": "08980eda-1c7c-437f-9934-f98dd70af7b2"
      },
      "execution_count": 410,
      "outputs": [
        {
          "output_type": "execute_result",
          "data": {
            "text/plain": [
              "array([0, 0, 0, 0, 1, 0, 1, 0, 0, 0, 0, 0, 0, 0, 0, 0, 0, 0, 0, 1, 0, 0,\n",
              "       1, 0, 0, 1, 1, 0, 0, 0, 0, 0, 1, 0, 1, 0, 1, 0, 0, 0, 0, 0, 1, 0,\n",
              "       1, 1, 0, 0, 0, 0, 0, 0, 0, 1, 0, 1, 0, 0, 0, 0, 0, 0, 1, 0, 0, 0,\n",
              "       0, 0, 0, 0, 0, 1, 0, 1, 0, 0, 0, 0, 0, 1, 0, 0, 1, 0, 1, 1, 0, 0,\n",
              "       1, 0, 0, 0, 0, 1, 1, 0, 1, 1, 0, 0, 1, 0, 0, 0, 0, 0, 0, 1, 0, 0,\n",
              "       0, 0, 0, 1, 1, 0, 0, 0, 0, 0, 0, 0, 1, 0, 0, 0, 0, 1, 0, 0, 0, 0,\n",
              "       0, 1, 1, 1, 1, 0, 0, 1, 0, 0, 1, 0, 0, 0, 0, 0, 1, 0, 0, 1, 0, 0])"
            ]
          },
          "metadata": {},
          "execution_count": 410
        }
      ]
    },
    {
      "cell_type": "markdown",
      "source": [],
      "metadata": {
        "id": "sDpq65eq40ks"
      }
    },
    {
      "cell_type": "markdown",
      "source": [
        "#score"
      ],
      "metadata": {
        "id": "kR-JXRuf4yIM"
      }
    },
    {
      "cell_type": "code",
      "source": [
        "from sklearn.metrics import accuracy_score\n",
        "score=accuracy_score(y_pred,y_test)\n",
        "print(\"accuracy_score:\",score)"
      ],
      "metadata": {
        "colab": {
          "base_uri": "https://localhost:8080/"
        },
        "id": "raxQGIY3rAal",
        "outputId": "ec971b54-6da5-48f0-db5f-b1ab8583131b"
      },
      "execution_count": 411,
      "outputs": [
        {
          "output_type": "stream",
          "name": "stdout",
          "text": [
            "accuracy_score: 0.7662337662337663\n"
          ]
        }
      ]
    },
    {
      "cell_type": "code",
      "source": [
        "from sklearn.metrics import recall_score\n",
        "score=recall_score(y_pred,y_test)\n",
        "print(\"recall_score:\",score)"
      ],
      "metadata": {
        "colab": {
          "base_uri": "https://localhost:8080/"
        },
        "id": "btgmTbwPpkTV",
        "outputId": "09991a38-f910-4423-b291-2e90bfa6f483"
      },
      "execution_count": 412,
      "outputs": [
        {
          "output_type": "stream",
          "name": "stdout",
          "text": [
            "recall_score: 0.725\n"
          ]
        }
      ]
    },
    {
      "cell_type": "code",
      "source": [
        "from sklearn.metrics import precision_score\n",
        "score=precision_score(y_pred,y_test)\n",
        "print(\"precision_score:\",score)"
      ],
      "metadata": {
        "colab": {
          "base_uri": "https://localhost:8080/"
        },
        "id": "BJKVBRYzsXQL",
        "outputId": "41141e44-ee63-4972-944d-73ed4e62efaa"
      },
      "execution_count": 413,
      "outputs": [
        {
          "output_type": "stream",
          "name": "stdout",
          "text": [
            "precision_score: 0.5370370370370371\n"
          ]
        }
      ]
    },
    {
      "cell_type": "code",
      "source": [
        "from sklearn.metrics import confusion_matrix\n",
        "score=confusion_matrix(y_pred,y_test)\n",
        "print(\"confusion_matrix:\",score)"
      ],
      "metadata": {
        "colab": {
          "base_uri": "https://localhost:8080/"
        },
        "id": "sqqtV-PMsfc7",
        "outputId": "63ce1828-c935-490d-d3eb-62d5c1d31efa"
      },
      "execution_count": 414,
      "outputs": [
        {
          "output_type": "stream",
          "name": "stdout",
          "text": [
            "confusion_matrix: [[89 25]\n",
            " [11 29]]\n"
          ]
        }
      ]
    },
    {
      "cell_type": "markdown",
      "source": [
        "# saving the model"
      ],
      "metadata": {
        "id": "K9QiHR1n41zE"
      }
    },
    {
      "cell_type": "code",
      "source": [
        "import pickle \n",
        "result=\"diebetes_prediction_model.csv\"\n",
        "pickle.dump(model,open(\"diabetes_model.sav\",\"wb\"))"
      ],
      "metadata": {
        "id": "Bl6WzUQiszHI"
      },
      "execution_count": 415,
      "outputs": []
    },
    {
      "cell_type": "markdown",
      "source": [
        "# to deploy the model in streamlit ( code )"
      ],
      "metadata": {
        "id": "1HzAdMKq6Kwb"
      }
    },
    {
      "cell_type": "code",
      "source": [
        "'''import pickle \n",
        "import streamlit as st\n",
        "import numpy as np\n",
        "\n",
        "lod=pickle.load(open(\"C:/Users/harin/Pictures/diabetes_model.sav\",\"rb\"))\n",
        "\n",
        "\n",
        "def status( vari ):\n",
        "    vari1=np.array(vari)\n",
        "    vari2=vari1.reshape(1,-1)\n",
        "    predi=lod.predict(vari2)\n",
        "    print(predi)\n",
        "    \n",
        "    if(predi[0]==1):\n",
        "        return \"HE/SHE WILL  NOT HAVE DIABETES\"\n",
        "    else:\n",
        "        return \"HE/SHE WILL HAVE DIABETES\"\n",
        "    \n",
        "def main():\n",
        "     st.title(\"DIABETES_PREDICTION_MODEL\")\n",
        "     Pregnancies=st.number_input(\"enter no of Pregnancies\")\n",
        "     Glucose=st.number_input(\"enter the Glucose level\")\n",
        "     BloodPressure=st.number_input(\"enter the BloodPressure\tlevel\")\n",
        "     Insulin=st.number_input(\"enter the Insulin level\")\n",
        "     BMI=st.number_input(\"enter the BMI level\")\n",
        "     DiabetesPedigreeFunction=st.number_input(\"enter the DiabetesPedigreeFunction\")\n",
        "     \n",
        "     vari3=\"\"\n",
        "     \n",
        "     if(st.button(\"predict\")):\n",
        "         vari3=status([\"Pregnancies\",\"Glucose\",\"BloodPressure\",\"Insulin\",\"BMI\",\"DiabetesPedigreeFunction\"])\n",
        "         \n",
        "         \n",
        "         \n",
        "     st.success(vari3)\n",
        "         \n",
        "         \n",
        "if __name__=='__main__':\n",
        "    main()\n",
        "     \n",
        "     \n",
        "     '''"
      ],
      "metadata": {
        "id": "RJ172dy9taOf",
        "colab": {
          "base_uri": "https://localhost:8080/",
          "height": 140
        },
        "outputId": "342991b0-6fec-48bb-a8b3-85bb32a6d7eb"
      },
      "execution_count": 416,
      "outputs": [
        {
          "output_type": "execute_result",
          "data": {
            "text/plain": [
              "'import pickle \\nimport streamlit as st\\nimport numpy as np\\n\\nlod=pickle.load(open(\"C:/Users/harin/Pictures/diabetes_model.sav\",\"rb\"))\\n\\n\\ndef status( vari ):\\n    vari1=np.array(vari)\\n    vari2=vari1.reshape(1,-1)\\n    predi=lod.predict(vari2)\\n    print(predi)\\n    \\n    if(predi[0]==1):\\n        return \"HE/SHE WILL  NOT HAVE DIABETES\"\\n    else:\\n        return \"HE/SHE WILL HAVE DIABETES\"\\n    \\ndef main():\\n     st.title(\"DIABETES_PREDICTION_MODEL\")\\n     Pregnancies=st.number_input(\"enter no of Pregnancies\")\\n     Glucose=st.number_input(\"enter the Glucose level\")\\n     BloodPressure=st.number_input(\"enter the BloodPressure\\tlevel\")\\n     Insulin=st.number_input(\"enter the Insulin level\")\\n     BMI=st.number_input(\"enter the BMI level\")\\n     DiabetesPedigreeFunction=st.number_input(\"enter the DiabetesPedigreeFunction\")\\n     \\n     vari3=\"\"\\n     \\n     if(st.button(\"predict\")):\\n         vari3=status([\"Pregnancies\",\"Glucose\",\"BloodPressure\",\"Insulin\",\"BMI\",\"DiabetesPedigreeFunction\"])\\n         \\n         \\n         \\n     st.success(vari3)\\n         \\n         \\nif __name__==\\'__main__\\':\\n    main()\\n     \\n     \\n     '"
            ],
            "application/vnd.google.colaboratory.intrinsic+json": {
              "type": "string"
            }
          },
          "metadata": {},
          "execution_count": 416
        }
      ]
    },
    {
      "cell_type": "code",
      "source": [],
      "metadata": {
        "id": "huTOxTvY6hBX"
      },
      "execution_count": 416,
      "outputs": []
    }
  ]
}